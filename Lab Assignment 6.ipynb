{
 "cells": [
  {
   "cell_type": "markdown",
   "metadata": {
    "id": "vlS9VakKW_yX"
   },
   "source": [
    "<h4>AM.SC.P2MCA23028 <br>PARVATHY VIJAYAN<br></h4>\n",
    "<h2>FUNCTIONS : ASSIGNMENT - 6</h2>\n",
    "1. That returns a list of all four-digit numbers that have all their digits even and are  perfect squares. (for eg:-, the output should include 6400 but not 8100 (one digit is  odd) or 4248 (not a perfect square))"
   ]
  },
  {
   "cell_type": "code",
   "execution_count": null,
   "metadata": {
    "colab": {
     "base_uri": "https://localhost:8080/"
    },
    "id": "6RY-WXHhXDDd",
    "outputId": "e8ccac41-aed4-4a63-b351-6d9282ddc808"
   },
   "outputs": [
    {
     "name": "stdout",
     "output_type": "stream",
     "text": [
      "Even digit perfect squares [4624, 6084, 6400, 8464]\n"
     ]
    }
   ],
   "source": [
    "def perfectsqr():\n",
    "    result = []\n",
    "    for i in range(32, 100):  # Range of even digits from 0 to 9\n",
    "        num = i * i\n",
    "        if len(str(num)) == 4 and all(int(digit) % 2 == 0 for digit in str(num)):\n",
    "            result.append(num)\n",
    "    return result\n",
    "print(\"Even digit perfect squares\", perfectsqr())"
   ]
  },
  {
   "cell_type": "markdown",
   "metadata": {
    "id": "VxA8ORdJXDeF"
   },
   "source": [
    "\n",
    "2. That accept an integer number, find if it is Disarium number or not (Hint: A number is  said to be a Disarium number when the sum of its digit raised to the power of their  respective position is equal to the number itself. Eg: 175 is a Disarium number, 11 + 72 + 53 = 175)"
   ]
  },
  {
   "cell_type": "code",
   "execution_count": 13,
   "metadata": {
    "colab": {
     "base_uri": "https://localhost:8080/"
    },
    "id": "l_XLyiv9cshZ",
    "outputId": "6011f9e0-d576-47b3-8b25-12909d38108c"
   },
   "outputs": [
    {
     "name": "stdout",
     "output_type": "stream",
     "text": [
      "123\n"
     ]
    },
    {
     "data": {
      "text/plain": [
       "[1, 2, 3]"
      ]
     },
     "execution_count": 13,
     "metadata": {},
     "output_type": "execute_result"
    }
   ],
   "source": [
    "num = int(input())\n",
    "digits = [int(digit) for digit in str(num)]\n",
    "digits"
   ]
  },
  {
   "cell_type": "code",
   "execution_count": 17,
   "metadata": {},
   "outputs": [
    {
     "name": "stdout",
     "output_type": "stream",
     "text": [
      "175\n"
     ]
    },
    {
     "data": {
      "text/plain": [
       "['1', '7', '5']"
      ]
     },
     "execution_count": 17,
     "metadata": {},
     "output_type": "execute_result"
    }
   ],
   "source": [
    "num = input()\n",
    "digits = list(num)\n",
    "digits"
   ]
  },
  {
   "cell_type": "code",
   "execution_count": 20,
   "metadata": {},
   "outputs": [
    {
     "name": "stdout",
     "output_type": "stream",
     "text": [
      "1---1\n",
      "2---7\n",
      "3---5\n"
     ]
    }
   ],
   "source": [
    "sum=0\n",
    "for i, j in enumerate(digits):\n",
    "    print(f\"{i+1}---{int(j)}\")\n",
    "    sum = sum + int(j)**(i+1)"
   ]
  },
  {
   "cell_type": "code",
   "execution_count": 9,
   "metadata": {
    "colab": {
     "base_uri": "https://localhost:8080/"
    },
    "id": "eKsWKb4felfA",
    "outputId": "3f54c32b-cd39-4dc5-81ca-af4bb494ea51"
   },
   "outputs": [
    {
     "name": "stdout",
     "output_type": "stream",
     "text": [
      "1---1\n",
      "2---7\n",
      "3---5\n"
     ]
    }
   ],
   "source": [
    "sum=0\n",
    "for i, j in enumerate(digits):\n",
    "    print(f\"{i+1}---{j}\")\n",
    "    sum = sum + j**(i+1)"
   ]
  },
  {
   "cell_type": "code",
   "execution_count": 11,
   "metadata": {},
   "outputs": [
    {
     "data": {
      "text/plain": [
       "True"
      ]
     },
     "execution_count": 11,
     "metadata": {},
     "output_type": "execute_result"
    }
   ],
   "source": [
    "sum==num"
   ]
  },
  {
   "cell_type": "code",
   "execution_count": null,
   "metadata": {
    "colab": {
     "base_uri": "https://localhost:8080/"
    },
    "id": "aU2LoTOleTmU",
    "outputId": "b00a045a-02cd-44e7-b180-3bae3e8a0d7c"
   },
   "outputs": [
    {
     "data": {
      "text/plain": [
       "175"
      ]
     },
     "execution_count": 27,
     "metadata": {},
     "output_type": "execute_result"
    }
   ],
   "source": [
    "disarium_sum = sum(digit ** (index + 1) for index, digit in enumerate(digits))\n",
    "disarium_sum"
   ]
  },
  {
   "cell_type": "code",
   "execution_count": null,
   "metadata": {
    "colab": {
     "base_uri": "https://localhost:8080/"
    },
    "id": "1ToCu4QwW7tK",
    "outputId": "a3749100-c8cb-4f3a-d3f1-25c3928dccea"
   },
   "outputs": [
    {
     "data": {
      "text/plain": [
       "True"
      ]
     },
     "execution_count": 31,
     "metadata": {},
     "output_type": "execute_result"
    }
   ],
   "source": [
    "\n",
    "def is_disarium(num):\n",
    "    digits = [int(digit) for digit in str(num)]\n",
    "    disarium_sum = sum(digit ** (index + 1) for index, digit in enumerate(digits))\n",
    "    return disarium_sum == num\n",
    "is_disarium(175)"
   ]
  },
  {
   "cell_type": "markdown",
   "metadata": {
    "id": "POkOJKvSXFhf"
   },
   "source": [
    "\n",
    "3. That returns a list of all the Disarium numbers between two limits. The function  accepts limits as the parameters."
   ]
  },
  {
   "cell_type": "code",
   "execution_count": null,
   "metadata": {
    "colab": {
     "base_uri": "https://localhost:8080/"
    },
    "id": "4j5EmRhlXFom",
    "outputId": "dee134af-0b21-4dfa-fcd3-b33371a755c3"
   },
   "outputs": [
    {
     "data": {
      "text/plain": [
       "[0, 1, 2, 3, 4, 5, 6, 7, 8, 9, 89, 135, 175]"
      ]
     },
     "execution_count": 38,
     "metadata": {},
     "output_type": "execute_result"
    }
   ],
   "source": [
    "def disarium(lower_limit, upper_limit):\n",
    "    disarium_numbers = []\n",
    "    for num in range(lower_limit, upper_limit + 1):\n",
    "        if is_disarium(num):\n",
    "            disarium_numbers.append(num)\n",
    "    return disarium_numbers\n",
    "disarium(0,200)"
   ]
  },
  {
   "cell_type": "markdown",
   "metadata": {
    "id": "i0a1rmA1XEze"
   },
   "source": [
    "\n",
    "4. That accepts a string, check for Palindrome and returns True or False respectively."
   ]
  },
  {
   "cell_type": "code",
   "execution_count": null,
   "metadata": {
    "colab": {
     "base_uri": "https://localhost:8080/"
    },
    "id": "VLSTgR-VXFZY",
    "outputId": "e4fee161-71a4-4bdc-deb6-6d344c157793"
   },
   "outputs": [
    {
     "name": "stdout",
     "output_type": "stream",
     "text": [
      "Malayalam : True\n",
      "Bob : True\n",
      "123 : False\n",
      "1hellolleh1 : True\n"
     ]
    }
   ],
   "source": [
    "def is_palindrome(string):\n",
    "    string = string.lower()\n",
    "    return string == string[::-1]\n",
    "print(f\"Malayalam : {is_palindrome('Malayalam')}\\nBob : {is_palindrome('Bob')}\\n123 : {is_palindrome('123')}\\n1hellolleh1 : {is_palindrome('1hellolleh1')}\")"
   ]
  },
  {
   "cell_type": "markdown",
   "metadata": {
    "id": "8jnO3e7NXFSb"
   },
   "source": [
    "5. That accept an arbitrary number of words returns the count of each word.\n"
   ]
  },
  {
   "cell_type": "code",
   "execution_count": null,
   "metadata": {
    "colab": {
     "base_uri": "https://localhost:8080/"
    },
    "id": "D0YzYUYvXFLE",
    "outputId": "d18911bc-6deb-4e9f-e53b-58fb3db1845d"
   },
   "outputs": [
    {
     "data": {
      "text/plain": [
       "{'covid‑19': 1,\n",
       " 'transmission': 2,\n",
       " 'occurs': 1,\n",
       " 'when': 3,\n",
       " 'infectious': 1,\n",
       " 'particles': 2,\n",
       " 'are': 2,\n",
       " 'breathed': 1,\n",
       " 'in': 3,\n",
       " 'or': 4,\n",
       " 'come': 1,\n",
       " 'into': 1,\n",
       " 'contact': 1,\n",
       " 'with': 1,\n",
       " 'the': 6,\n",
       " 'eyes,': 2,\n",
       " 'nose,': 1,\n",
       " 'mouth.': 1,\n",
       " 'risk': 1,\n",
       " 'is': 1,\n",
       " 'highest': 1,\n",
       " 'people': 3,\n",
       " 'close': 1,\n",
       " 'proximity,': 1,\n",
       " 'but': 1,\n",
       " 'small': 1,\n",
       " 'airborne': 1,\n",
       " 'containing': 1,\n",
       " 'virus': 2,\n",
       " 'can': 3,\n",
       " 'remain': 2,\n",
       " 'suspended': 1,\n",
       " 'air': 1,\n",
       " 'and': 2,\n",
       " 'travel': 1,\n",
       " 'over': 1,\n",
       " 'longer': 1,\n",
       " 'distances,': 1,\n",
       " 'particularly': 1,\n",
       " 'indoors.': 1,\n",
       " 'also': 1,\n",
       " 'occur': 1,\n",
       " 'touch': 1,\n",
       " 'their': 1,\n",
       " 'nose': 1,\n",
       " 'mouth': 1,\n",
       " 'after': 1,\n",
       " 'touching': 1,\n",
       " 'surfaces': 1,\n",
       " 'objects': 1,\n",
       " 'that': 1,\n",
       " 'have': 1,\n",
       " 'been': 1,\n",
       " 'contaminated': 1,\n",
       " 'by': 1,\n",
       " 'virus.': 1,\n",
       " 'contagious': 1,\n",
       " 'for': 1,\n",
       " 'up': 1,\n",
       " 'to': 1,\n",
       " '20': 1,\n",
       " 'days': 1,\n",
       " 'spread': 1,\n",
       " 'even': 1,\n",
       " 'if': 1,\n",
       " 'they': 1,\n",
       " 'do': 1,\n",
       " 'not': 1,\n",
       " 'develop': 1,\n",
       " 'symptoms': 1}"
      ]
     },
     "execution_count": 53,
     "metadata": {},
     "output_type": "execute_result"
    }
   ],
   "source": [
    "def count_words(sentence):\n",
    "    sentence= sentence.lower()\n",
    "    word_count = {}\n",
    "    words = sentence.split()\n",
    "    for word in words:\n",
    "        word_count[word] = word_count.get(word, 0) + 1\n",
    "    return word_count\n",
    "count_words(\"COVID‑19 transmission occurs when infectious particles are breathed in or come into contact with the eyes, nose, or mouth. The risk is highest when people are in close proximity, but small airborne particles containing the virus can remain suspended in the air and travel over longer distances, particularly indoors. Transmission can also occur when people touch their eyes, nose or mouth after touching surfaces or objects that have been contaminated by the virus. People remain contagious for up to 20 days and can spread the virus even if they do not develop symptoms\")"
   ]
  },
  {
   "cell_type": "markdown",
   "metadata": {
    "id": "YnPQCd9fXZkj"
   },
   "source": [
    "6. That accept two lists and return True if they have at least one common item else return  False."
   ]
  },
  {
   "cell_type": "code",
   "execution_count": null,
   "metadata": {
    "colab": {
     "base_uri": "https://localhost:8080/"
    },
    "id": "43rL6ZWFXEGI",
    "outputId": "4f4b4054-b8f2-4c87-c7a4-ad7e19188aa6"
   },
   "outputs": [
    {
     "data": {
      "text/plain": [
       "True"
      ]
     },
     "execution_count": 55,
     "metadata": {},
     "output_type": "execute_result"
    }
   ],
   "source": [
    "def check_common_item(list1, list2):\n",
    "    return any(item in list1 for item in list2)\n",
    "\n",
    "list1 = [1,21,3,4]\n",
    "list2 = [1,2,3,4]\n",
    "\n",
    "check_common_item(list1, list2)"
   ]
  },
  {
   "cell_type": "markdown",
   "metadata": {
    "id": "Z7u_ut-BXrZa"
   },
   "source": [
    "7. That accept two numbers and return the GCD (greatest common divisor) of the  numbers."
   ]
  },
  {
   "cell_type": "code",
   "execution_count": null,
   "metadata": {
    "colab": {
     "base_uri": "https://localhost:8080/"
    },
    "id": "iMF-ZiT6XrGu",
    "outputId": "60afc620-9c68-43ee-cb01-063876f3f4fa"
   },
   "outputs": [
    {
     "data": {
      "text/plain": [
       "6"
      ]
     },
     "execution_count": 58,
     "metadata": {},
     "output_type": "execute_result"
    }
   ],
   "source": [
    "def gcd(a, b):\n",
    "    while b:\n",
    "        a, b = b, a % b\n",
    "    return a\n",
    "gcd(18,12)"
   ]
  },
  {
   "cell_type": "markdown",
   "metadata": {
    "id": "Xbysi4HUXrAp"
   },
   "source": [
    "\n",
    "8. That accepts an arbitrary number of keyword arguments and returns the maximum  value."
   ]
  },
  {
   "cell_type": "code",
   "execution_count": null,
   "metadata": {
    "colab": {
     "base_uri": "https://localhost:8080/"
    },
    "id": "bxTzanAKXq58",
    "outputId": "7697a011-11c9-4208-c63c-bb366093294a"
   },
   "outputs": [
    {
     "name": "stdout",
     "output_type": "stream",
     "text": [
      "20\n"
     ]
    }
   ],
   "source": [
    "def max_value(**kwargs):\n",
    "    return max(kwargs.values())\n",
    "result = max_value(a=10, b=20, c=5, d=15)\n",
    "print(result)\n"
   ]
  },
  {
   "cell_type": "markdown",
   "metadata": {
    "id": "vel-QfVuXqz4"
   },
   "source": [
    "\n",
    "9. That accepts a string and return a list of all duplicate characters in the string."
   ]
  },
  {
   "cell_type": "code",
   "execution_count": null,
   "metadata": {
    "colab": {
     "base_uri": "https://localhost:8080/"
    },
    "id": "UyePnW45XqsH",
    "outputId": "8e3d7364-2c81-4340-864a-14f9d92c2ec7"
   },
   "outputs": [
    {
     "data": {
      "text/plain": [
       "['a']"
      ]
     },
     "execution_count": 68,
     "metadata": {},
     "output_type": "execute_result"
    }
   ],
   "source": [
    "def duplicatechar(string):\n",
    "    duplicates = []\n",
    "    for char in set(string):\n",
    "        if string.count(char) > 1:\n",
    "            duplicates.append(char)\n",
    "    return duplicates\n",
    "duplicatechar(\"parvathy\")"
   ]
  },
  {
   "cell_type": "markdown",
   "metadata": {
    "id": "mK3oirU3XqcN"
   },
   "source": [
    "\n",
    "10. That accepts a number, find the factors and return two lists. The first list contains all  the odd factors and second list all the even ones.\n"
   ]
  },
  {
   "cell_type": "code",
   "execution_count": null,
   "metadata": {
    "colab": {
     "base_uri": "https://localhost:8080/"
    },
    "id": "4_IYSavZXzVz",
    "outputId": "cc884b59-afc3-4e97-ed06-ed16554e3735"
   },
   "outputs": [
    {
     "data": {
      "text/plain": [
       "([1, 5, 25], [2, 10, 50])"
      ]
     },
     "execution_count": 74,
     "metadata": {},
     "output_type": "execute_result"
    }
   ],
   "source": [
    "def find_factors(num):\n",
    "    odd_factors = [i for i in range(1, num + 1) if num % i == 0 and i % 2 != 0]\n",
    "    even_factors = [i for i in range(1, num + 1) if num % i == 0 and i % 2 == 0]\n",
    "    return odd_factors, even_factors\n",
    "find_factors(50)"
   ]
  },
  {
   "cell_type": "markdown",
   "metadata": {
    "id": "QSDJiPrI0Kip"
   },
   "source": [
    "Write a Python program to create a recursive function:\n",
    "\n",
    "11. That accepts a number and find the harmonic sum of that number. (Hint: the \n",
    "harmonic sum of n is equal to the sum of reciprocals of positive integers up to n). For \n",
    "example, if n =3, HS = 1+1/2+1/3"
   ]
  },
  {
   "cell_type": "code",
   "execution_count": 31,
   "metadata": {},
   "outputs": [
    {
     "data": {
      "text/plain": [
       "1.8333333333333333"
      ]
     },
     "execution_count": 31,
     "metadata": {},
     "output_type": "execute_result"
    }
   ],
   "source": [
    "def harmonic_sum(n):\n",
    "    if n == 1:\n",
    "        return 1\n",
    "    else:\n",
    "        return 1/n + harmonic_sum(n-1)\n",
    "\n",
    "n = 3\n",
    "harmonic_sum(n)"
   ]
  },
  {
   "cell_type": "markdown",
   "metadata": {},
   "source": [
    "\n",
    "12. That accepts a number and find the sum of geometric series of that number. (Hint: \n",
    "Geometric series of 4 = 1+1/2+1/4+1/8)"
   ]
  },
  {
   "cell_type": "code",
   "execution_count": 36,
   "metadata": {},
   "outputs": [
    {
     "name": "stdout",
     "output_type": "stream",
     "text": [
      "The geometric sum of 4 terms is: 1.875\n"
     ]
    }
   ],
   "source": [
    "def geometric_sum(n):\n",
    "    if n == 0:\n",
    "        return 0\n",
    "    else:\n",
    "        return 1 / (2 ** (n - 1)) + geometric_sum(n - 1)\n",
    "\n",
    "n = 4\n",
    "print(f\"The geometric sum of {n} terms is: {geometric_sum(n)}\")"
   ]
  },
  {
   "cell_type": "markdown",
   "metadata": {},
   "source": [
    "13. That accepts two integers and find the gcd (greatest common divisor) of them."
   ]
  },
  {
   "cell_type": "code",
   "execution_count": 38,
   "metadata": {},
   "outputs": [
    {
     "name": "stdout",
     "output_type": "stream",
     "text": [
      "The GCD of 4 and 8 is: 4\n"
     ]
    }
   ],
   "source": [
    "def gcd(a, b):\n",
    "    if b == 0:\n",
    "        return a\n",
    "    else:\n",
    "        return gcd(b, a % b)\n",
    "\n",
    "a = 4\n",
    "b = 8\n",
    "print(f\"The GCD of {a} and {b} is: {gcd(a, b)}\")"
   ]
  },
  {
   "cell_type": "markdown",
   "metadata": {},
   "source": [
    "\n",
    "14. That accepts a decimal integer and display its binary equivalent.\n"
   ]
  },
  {
   "cell_type": "code",
   "execution_count": 39,
   "metadata": {},
   "outputs": [
    {
     "name": "stdout",
     "output_type": "stream",
     "text": [
      "The binary equivalent of 10 is: 1010\n"
     ]
    }
   ],
   "source": [
    "def decimal_to_binary(n):\n",
    "    if n == 0:\n",
    "        return \"0\"\n",
    "    elif n == 1:\n",
    "        return \"1\"\n",
    "    else:\n",
    "        return decimal_to_binary(n // 2) + str(n % 2)\n",
    "\n",
    "n = 10\n",
    "print(f\"The binary equivalent of {n} is: {decimal_to_binary(n)}\")\n"
   ]
  },
  {
   "cell_type": "markdown",
   "metadata": {},
   "source": [
    "15. To find an item in a sorted list using binary search"
   ]
  },
  {
   "cell_type": "code",
   "execution_count": 42,
   "metadata": {},
   "outputs": [
    {
     "name": "stdout",
     "output_type": "stream",
     "text": [
      "Element 192 found at index not found\n"
     ]
    }
   ],
   "source": [
    "def binary_search(arr, target, low, high):\n",
    "    if low > high:\n",
    "        return \"not found\"\n",
    "\n",
    "    mid = (low + high) // 2\n",
    "\n",
    "    if arr[mid] == target:\n",
    "        return mid\n",
    "    elif arr[mid] > target:\n",
    "        return binary_search(arr, target, low, mid - 1)\n",
    "    else:\n",
    "        return binary_search(arr, target, mid + 1, high)\n",
    "\n",
    "arr = [1, 3, 5, 7, 9, 11, 13, 15, 17, 19]\n",
    "target = 192\n",
    "\n",
    "result = binary_search(arr, target, 0, len(arr) - 1)\n",
    "\n",
    "if result != -1:\n",
    "    print(f\"Element {target} found at index {result}\")\n",
    "else:\n",
    "    print(f\"Element {target} not found in the array\")\n"
   ]
  },
  {
   "cell_type": "code",
   "execution_count": null,
   "metadata": {},
   "outputs": [],
   "source": []
  }
 ],
 "metadata": {
  "colab": {
   "provenance": []
  },
  "kernelspec": {
   "display_name": "Python 3 (ipykernel)",
   "language": "python",
   "name": "python3"
  },
  "language_info": {
   "codemirror_mode": {
    "name": "ipython",
    "version": 3
   },
   "file_extension": ".py",
   "mimetype": "text/x-python",
   "name": "python",
   "nbconvert_exporter": "python",
   "pygments_lexer": "ipython3",
   "version": "3.11.4"
  }
 },
 "nbformat": 4,
 "nbformat_minor": 1
}
